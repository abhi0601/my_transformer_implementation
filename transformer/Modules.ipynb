{
 "cells": [
  {
   "cell_type": "code",
   "execution_count": 4,
   "id": "66f8023a",
   "metadata": {},
   "outputs": [],
   "source": [
    "# imports\n",
    "import math\n",
    "import torch.nn as nn\n",
    "import torch.nn.functional as F"
   ]
  },
  {
   "cell_type": "code",
   "execution_count": null,
   "id": "2d4cec0e",
   "metadata": {},
   "outputs": [],
   "source": [
    "# class ScaledDotProductAttention(nn.Module):\n",
    "    '''scaled dot product attention'''\n",
    "    \n",
    "    def __init__(self, scaling, attn_dropout=0.1):\n",
    "        super.__init__()\n",
    "        self.scaling = scaling\n",
    "        self.dropout = F.dropout(attn_dropout)\n",
    "    \n",
    "    def forward(self, q, k, v, mask=None):\n",
    "        # softmax((q.k^T)/scaling).v\n",
    "        # q, k, v has shape batch X n_heads X words X d\n",
    "        \n",
    "        # o/p shape is batch X n_heads X words X words\n",
    "        raw_attn = torch.matmul(q/scaling, k.transpose(2,3))\n",
    "        \n",
    "        if mask is not None:\n",
    "            raw_attn = raw_attn.masked_fill(mask==0, -math.inf)\n",
    "        \n",
    "        attn = self.dropout(F.softmax(raw_attn, dim=-1))\n",
    "        output = np.matmul(attn, v)\n",
    "        \n",
    "        return output, attn\n",
    "        \n",
    "        \n",
    "    "
   ]
  }
 ],
 "metadata": {
  "kernelspec": {
   "display_name": "Python 3",
   "language": "python",
   "name": "python3"
  },
  "language_info": {
   "codemirror_mode": {
    "name": "ipython",
    "version": 3
   },
   "file_extension": ".py",
   "mimetype": "text/x-python",
   "name": "python",
   "nbconvert_exporter": "python",
   "pygments_lexer": "ipython3",
   "version": "3.8.8"
  }
 },
 "nbformat": 4,
 "nbformat_minor": 5
}
