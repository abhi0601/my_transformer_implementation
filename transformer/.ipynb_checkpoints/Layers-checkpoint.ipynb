{
 "cells": [
  {
   "cell_type": "code",
   "execution_count": 4,
   "id": "0286f04d",
   "metadata": {},
   "outputs": [],
   "source": [
    "# imports\n",
    "import torch.nn as nn\n",
    "\n",
    "from SubLayers import MultiHeadAttention, PositionWiseFeedForward"
   ]
  },
  {
   "cell_type": "code",
   "execution_count": 5,
   "id": "e71ce9af",
   "metadata": {},
   "outputs": [],
   "source": [
    "class EncoderLayer(nn.Module):\n",
    "    '''The encoder layer composed of self attention and pointwise FF NN'''\n",
    "    \n",
    "    def __init__(self, d_model, hidden_dim, n_heads, d_k, d_v, dropout=0.1):\n",
    "        super(EncoderLayer, self).__init__()\n",
    "        \n",
    "        self.self_attn = MultiHeadAttention(n_heads, d_model, d_k, d_v, dropout)\n",
    "        self.pw_ffnn = PositionWiseFeedForward(d_model, hidden_dim, dropout)\n",
    "        \n",
    "    def forward(self, enc_input, self_attn_mask=None):\n",
    "        enc_output, enc_self_attn = self.self_attn(enc_input, enc_input, enc_input,\n",
    "                                                   self_attn_mask)\n",
    "        enc_output = self.pw_ffnn(enc_output)\n",
    "        \n",
    "        return enc_output, enc_self_attn\n",
    "        "
   ]
  },
  {
   "cell_type": "code",
   "execution_count": 6,
   "id": "ab4d6532",
   "metadata": {},
   "outputs": [],
   "source": [
    "class DecoderLayer(nn.Module):\n",
    "    '''The decoder layer having masked self attn, enc-dec-attn, position wise ffnn'''\n",
    "    \n",
    "    def __init__(self, d_model, hidden_dim, n_heads, d_k, d_v, dropout=0.1):\n",
    "        super(DecoderLayer, self).__init__()\n",
    "        \n",
    "        self.self_attn = MultiHeadAttention(n_heads, d_model, d_k, d_v, dropout)\n",
    "        self.enc_dec_attn = MultiHeadAttention(n_heads, d_model, d_k, d_v, dropout)\n",
    "        self.pw_ffnn = PositionWiseFeedForward(d_model, hidden_dim, dropout)\n",
    "        \n",
    "    def forward(self, dec_input, enc_output, self_attn_mask=None, enc_dec_attn_mask=None):\n",
    "        dec_ouput, dec_self_attn = self_attn(dec_input, dec_input, dec_input,\n",
    "                                             mask=self_attn_mask)\n",
    "        dec_output, enc_dec_attn = self.enc_dec_attn(dec_output, enc_output, enc_output,\n",
    "                                                     mask=enc_dec_attn_mask)\n",
    "        dec_output = self.pw_ffnn(dec_output)\n",
    "        \n",
    "        return dec_output, dec_self_attn, enc_dec_attn\n",
    "        "
   ]
  },
  {
   "cell_type": "code",
   "execution_count": null,
   "id": "b8dbfc27",
   "metadata": {},
   "outputs": [],
   "source": []
  }
 ],
 "metadata": {
  "kernelspec": {
   "display_name": "Python 3",
   "language": "python",
   "name": "python3"
  },
  "language_info": {
   "codemirror_mode": {
    "name": "ipython",
    "version": 3
   },
   "file_extension": ".py",
   "mimetype": "text/x-python",
   "name": "python",
   "nbconvert_exporter": "python",
   "pygments_lexer": "ipython3",
   "version": "3.8.8"
  }
 },
 "nbformat": 4,
 "nbformat_minor": 5
}
